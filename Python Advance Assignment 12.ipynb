{
 "cells": [
  {
   "cell_type": "markdown",
   "id": "11750f3b",
   "metadata": {},
   "source": [
    "# SUBMITTED BY: TEJASVE GUPTA"
   ]
  },
  {
   "cell_type": "markdown",
   "id": "e6e9560d",
   "metadata": {},
   "source": [
    "## Q1. Does assigning a value to a string&#39;s indexed character violate Python&#39;s string immutability?"
   ]
  },
  {
   "cell_type": "markdown",
   "id": "cf1527eb",
   "metadata": {},
   "source": [
    "**Ans:** String’s indexed character cannot to be assigned a New value , as Strings are **immutable.**"
   ]
  },
  {
   "cell_type": "code",
   "execution_count": 1,
   "id": "7b4c87e7",
   "metadata": {},
   "outputs": [
    {
     "name": "stdout",
     "output_type": "stream",
     "text": [
      "2370589812208\n"
     ]
    },
    {
     "ename": "TypeError",
     "evalue": "'str' object does not support item assignment",
     "output_type": "error",
     "traceback": [
      "\u001b[1;31m---------------------------------------------------------------------------\u001b[0m",
      "\u001b[1;31mTypeError\u001b[0m                                 Traceback (most recent call last)",
      "\u001b[1;32m~\\AppData\\Local\\Temp/ipykernel_36520/2406710072.py\u001b[0m in \u001b[0;36m<module>\u001b[1;34m\u001b[0m\n\u001b[0;32m      2\u001b[0m \u001b[0mname\u001b[0m \u001b[1;33m=\u001b[0m \u001b[1;34m\"Reinforcement\"\u001b[0m\u001b[1;33m\u001b[0m\u001b[1;33m\u001b[0m\u001b[0m\n\u001b[0;32m      3\u001b[0m \u001b[0mprint\u001b[0m\u001b[1;33m(\u001b[0m\u001b[0mid\u001b[0m\u001b[1;33m(\u001b[0m\u001b[0mname\u001b[0m\u001b[1;33m)\u001b[0m\u001b[1;33m)\u001b[0m \u001b[1;31m#73472\u001b[0m\u001b[1;33m\u001b[0m\u001b[1;33m\u001b[0m\u001b[0m\n\u001b[1;32m----> 4\u001b[1;33m \u001b[0mname\u001b[0m\u001b[1;33m[\u001b[0m\u001b[1;36m0\u001b[0m\u001b[1;33m]\u001b[0m \u001b[1;33m=\u001b[0m \u001b[1;34m\"V\"\u001b[0m \u001b[1;31m# Raises TypeError\u001b[0m\u001b[1;33m\u001b[0m\u001b[1;33m\u001b[0m\u001b[0m\n\u001b[0m",
      "\u001b[1;31mTypeError\u001b[0m: 'str' object does not support item assignment"
     ]
    }
   ],
   "source": [
    "# Example:\n",
    "name = \"Reinforcement\"\n",
    "print(id(name)) #73472\n",
    "name[0] = \"V\" # Raises TypeError"
   ]
  },
  {
   "cell_type": "markdown",
   "id": "09b8f0e7",
   "metadata": {},
   "source": [
    "## Q2. Does using the += operator to concatenate strings violate Python's string immutability? Why or why not ?"
   ]
  },
  {
   "cell_type": "markdown",
   "id": "edd71d2d",
   "metadata": {},
   "source": [
    "**Ans:** **`+=`** operator is used to concatenate strings, it does not violate Python’s string immutability Property. Because doing so new creates a new association with data and variable. E.g. `str_1=\"a\"` and `str_1+=\"b`. effect of this statements to create string `ab` and reassign it to variable `str_1`, any string data is not actually modified."
   ]
  },
  {
   "cell_type": "code",
   "execution_count": 2,
   "id": "ecff94a3",
   "metadata": {},
   "outputs": [
    {
     "name": "stdout",
     "output_type": "stream",
     "text": [
      "2370509842736\n",
      "2370589813680\n"
     ]
    }
   ],
   "source": [
    "str_1 = 'a'\n",
    "print(id(str_1))\n",
    "str_1 += 'b'\n",
    "print(id(str_1)) # Does not Modify existing string, Creates a New String Object"
   ]
  },
  {
   "cell_type": "markdown",
   "id": "e1716ca2",
   "metadata": {},
   "source": [
    "## Q3. In Python, how many different ways are there to index a character?"
   ]
  },
  {
   "cell_type": "markdown",
   "id": "ba193628",
   "metadata": {},
   "source": [
    "**Ans:** A Character in string can be indexed using string name followed by index number of character in square bracket. **Positive Indexing** i.e. first index is 0 an so on, or **Negative Indexing* i.e. last letter is -1 and so on can be used to index a character"
   ]
  },
  {
   "cell_type": "code",
   "execution_count": 3,
   "id": "438c05d6",
   "metadata": {},
   "outputs": [
    {
     "name": "stdout",
     "output_type": "stream",
     "text": [
      "u l e\n",
      "0 m .\n"
     ]
    }
   ],
   "source": [
    "in_string = \"iNeuron Full Stack Data Science BootCamp2.0\"\n",
    "print(in_string[9],in_string[10],in_string[2]) # Positive Indexing\n",
    "print(in_string[-1],in_string[-5],in_string[-2]) # Negative Indexing"
   ]
  },
  {
   "cell_type": "markdown",
   "id": "6f68a6ef",
   "metadata": {},
   "source": [
    "## Q4. What is the relationship between indexing and slicing?"
   ]
  },
  {
   "cell_type": "markdown",
   "id": "254d0a8e",
   "metadata": {},
   "source": [
    "**Ans:** We can access elements of sequence datatypes by using slicing and indexing. Indexing is used to obtaining individual element while slicing for sequence of elements."
   ]
  },
  {
   "cell_type": "code",
   "execution_count": 4,
   "id": "f78f0726",
   "metadata": {},
   "outputs": [
    {
     "name": "stdout",
     "output_type": "stream",
     "text": [
      "N u o\n",
      "Neuron Full St\n"
     ]
    }
   ],
   "source": [
    "in_string = \"iNeuron Full Stack Data Science BootCamp2.0\"\n",
    "print(in_string[1],in_string[3],in_string[5]) # Indexing\n",
    "print(in_string[1:15]) # Slicing"
   ]
  },
  {
   "cell_type": "markdown",
   "id": "45aaf0a7",
   "metadata": {},
   "source": [
    "## Q5. What is an indexed character's exact data type? What is the data form of a slicing-generated substring?"
   ]
  },
  {
   "cell_type": "markdown",
   "id": "7c234bdf",
   "metadata": {},
   "source": [
    "**Ans:** Indexed characters and sliced substrings have datatype **String.**"
   ]
  },
  {
   "cell_type": "code",
   "execution_count": 6,
   "id": "6e071a12",
   "metadata": {},
   "outputs": [
    {
     "name": "stdout",
     "output_type": "stream",
     "text": [
      "<class 'str'>\n",
      "<class 'str'>\n"
     ]
    }
   ],
   "source": [
    "in_string = \"iNeuron Full Stack Data Science BootCamp2.0\"\n",
    "print(type(in_string[3])) # Indexing -> str\n",
    "print(type(in_string[1:10])) # Indexing -> str"
   ]
  },
  {
   "cell_type": "markdown",
   "id": "5cb35837",
   "metadata": {},
   "source": [
    "## Q6. What is the relationship between string and character \"types\" in Python?"
   ]
  },
  {
   "cell_type": "markdown",
   "id": "de35f185",
   "metadata": {},
   "source": [
    "**Ans:** Object that contains sequence of character datatypes are called String."
   ]
  },
  {
   "cell_type": "markdown",
   "id": "dba7c5c9",
   "metadata": {},
   "source": [
    "## Q7. Identify at least two operators & one method that allow you to combine one or more smaller strings to create a larger string ?"
   ]
  },
  {
   "cell_type": "markdown",
   "id": "8ac5e934",
   "metadata": {},
   "source": [
    "**Ans:** `+, += `and` *` allow to combine one or more smaller strings to create a larger string. `<string>.join(<sep>)` method joins element of iterable type like list and tuple to get a combined string."
   ]
  },
  {
   "cell_type": "code",
   "execution_count": 7,
   "id": "c7783c76",
   "metadata": {},
   "outputs": [
    {
     "name": "stdout",
     "output_type": "stream",
     "text": [
      "iNeuron Full Stack Data Science BootCamp2.0 FSDS\n",
      "FSDS FSDS FSDS \n",
      "I N E U R O N\n",
      "i n e u r o n\n"
     ]
    }
   ],
   "source": [
    "in_string = 'iNeuron '\n",
    "in_string += 'Full Stack Data Science BootCamp2.0'\n",
    "print(in_string + ' FSDS')\n",
    "print('FSDS '*3)\n",
    "print(\" \".join(['I','N','E','U','R','O','N'])) # List Iterable\n",
    "print(\" \".join(('I','N','E','U','R','O','N')).lower()) # Tuple Iterable"
   ]
  },
  {
   "cell_type": "markdown",
   "id": "48d33dd0",
   "metadata": {},
   "source": [
    "## Q8. What is the benefit of first checking the target string with in or not in before using the index method to find a substring ?"
   ]
  },
  {
   "cell_type": "markdown",
   "id": "e4488177",
   "metadata": {},
   "source": [
    "**Ans:** Checking the target string with **`in`** or **`not`** Operators before using the index method to find a substring just helps confirming availability of substring and thus avoid raising of **`ValueError`**.\n"
   ]
  },
  {
   "cell_type": "code",
   "execution_count": 9,
   "id": "6973c154",
   "metadata": {},
   "outputs": [
    {
     "ename": "ValueError",
     "evalue": "substring not found",
     "output_type": "error",
     "traceback": [
      "\u001b[1;31m---------------------------------------------------------------------------\u001b[0m",
      "\u001b[1;31mValueError\u001b[0m                                Traceback (most recent call last)",
      "\u001b[1;32m~\\AppData\\Local\\Temp/ipykernel_36520/3075445300.py\u001b[0m in \u001b[0;36m<module>\u001b[1;34m\u001b[0m\n\u001b[0;32m      1\u001b[0m \u001b[1;31m#Example:\u001b[0m\u001b[1;33m\u001b[0m\u001b[1;33m\u001b[0m\u001b[0m\n\u001b[0;32m      2\u001b[0m \u001b[0min_string\u001b[0m \u001b[1;33m=\u001b[0m \u001b[1;34m\"ineuron\"\u001b[0m\u001b[1;33m\u001b[0m\u001b[1;33m\u001b[0m\u001b[0m\n\u001b[1;32m----> 3\u001b[1;33m \u001b[0min_string\u001b[0m\u001b[1;33m.\u001b[0m\u001b[0mindex\u001b[0m\u001b[1;33m(\u001b[0m\u001b[1;34m'x'\u001b[0m\u001b[1;33m)\u001b[0m \u001b[1;31m# Raises ValueError\u001b[0m\u001b[1;33m\u001b[0m\u001b[1;33m\u001b[0m\u001b[0m\n\u001b[0m\u001b[0;32m      4\u001b[0m \u001b[0min_string\u001b[0m\u001b[1;33m.\u001b[0m\u001b[0mindex\u001b[0m\u001b[1;33m(\u001b[0m\u001b[1;34m'u'\u001b[0m\u001b[1;33m)\u001b[0m \u001b[1;31m# 3\u001b[0m\u001b[1;33m\u001b[0m\u001b[1;33m\u001b[0m\u001b[0m\n",
      "\u001b[1;31mValueError\u001b[0m: substring not found"
     ]
    }
   ],
   "source": [
    "#Example:\n",
    "in_string = \"ineuron\"\n",
    "in_string.index('x') # Raises ValueError\n",
    "in_string.index('u') # 3"
   ]
  },
  {
   "cell_type": "markdown",
   "id": "716cdf1a",
   "metadata": {},
   "source": [
    "## Q9. Which operators and built-in string methods produce simple Boolean (true/false) results?"
   ]
  },
  {
   "cell_type": "markdown",
   "id": "9973053a",
   "metadata": {},
   "source": [
    "**Ans:** The String Operators and built-in methods to Produce Simple Boolean (True/False) Results are:\n",
    "\n",
    "* in\n",
    "* not\n",
    "* <string>.isalpha()\n",
    "* <string>.isalnum()\n",
    "* <string>.isdecimal()\n",
    "* <string>.isdigit()\n",
    "* <string>.islower()\n",
    "* <string>.isnumeric()\n",
    "* <string>.isprintable()\n",
    "* <string>.isspace()\n",
    "* <string>.istitle()"
   ]
  },
  {
   "cell_type": "code",
   "execution_count": null,
   "id": "20d65fff",
   "metadata": {},
   "outputs": [],
   "source": []
  }
 ],
 "metadata": {
  "kernelspec": {
   "display_name": "Python 3 (ipykernel)",
   "language": "python",
   "name": "python3"
  },
  "language_info": {
   "codemirror_mode": {
    "name": "ipython",
    "version": 3
   },
   "file_extension": ".py",
   "mimetype": "text/x-python",
   "name": "python",
   "nbconvert_exporter": "python",
   "pygments_lexer": "ipython3",
   "version": "3.9.7"
  }
 },
 "nbformat": 4,
 "nbformat_minor": 5
}
