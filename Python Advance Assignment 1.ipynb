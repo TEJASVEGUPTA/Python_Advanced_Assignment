{
 "cells": [
  {
   "cell_type": "markdown",
   "id": "f168063a",
   "metadata": {},
   "source": [
    "# SUBMITTED BY: TEJASVE GUPTA"
   ]
  },
  {
   "cell_type": "markdown",
   "id": "36f1e87f",
   "metadata": {},
   "source": [
    "## Q1. What is the purpose of Python's OOP?"
   ]
  },
  {
   "cell_type": "markdown",
   "id": "feedb1a3",
   "metadata": {},
   "source": [
    "**Ans:**  Object-oriented programming is a programming paradigm that provides a means of structuring programs so that properties and behaviors are bundled into individual objects\n",
    "\n",
    "* In Python, object-oriented Programming (OOPs) uses objects and classes in programming.\n",
    "* It aims to implement real-world entities like inheritance, polymorphisms, encapsulation, etc. in the programming.\n",
    "* The main concept of OOPs is to bind the data and the functions that work on that together as a single unit so that no other part of the code can access this data.\n",
    "\n",
    "#### Advantages of OOPs:\n",
    "\n",
    "* It helps to divide our over all program into different small segments and thus making it solving easy with the use of objects\n",
    "* Helps in easy maintenance and modification of existing program\n",
    "* Multiple instances of an object can be made."
   ]
  },
  {
   "cell_type": "markdown",
   "id": "2b7759ca",
   "metadata": {},
   "source": [
    "## Q2. Where does an inheritance search look for an attribute?"
   ]
  },
  {
   "cell_type": "markdown",
   "id": "d668451b",
   "metadata": {},
   "source": [
    "**Ans:** Python searches for an attribute in an upward tree of attributes. it first searches for the attribute in its instance and then looks in the class it is generated from, to all super classes listed in its class header"
   ]
  },
  {
   "cell_type": "markdown",
   "id": "6253e102",
   "metadata": {},
   "source": [
    "## Q3. How do you distinguish between a class object and an instance object?"
   ]
  },
  {
   "cell_type": "markdown",
   "id": "149859f7",
   "metadata": {},
   "source": [
    "**Ans:** The differences between a class object and an instance object are:\n",
    "\n",
    "* Class is a template for creating objects whereas object is an instance of class\n",
    "* Seperate memory is allocated for each object whenever an object is created. but for a class this doesnot happens.\n",
    "* A Class is created once. Many objects are created using a class.\n",
    "* As Classes have no allocated memory. they can't be manipulated. but objects can be manipulated."
   ]
  },
  {
   "cell_type": "markdown",
   "id": "5c201717",
   "metadata": {},
   "source": [
    "## Q4. What makes the first argument in a class’s method function special?"
   ]
  },
  {
   "cell_type": "markdown",
   "id": "8f4260fa",
   "metadata": {},
   "source": [
    "**Ans:** Python Classes usually have three types of methods which are:\n",
    "\n",
    "* Instance Methods (object level methods)\n",
    "* Class Methods (class level methods)\n",
    "* Static Methods (general utility methods)\n",
    "* **self** is the first argument for instance methods. which refers to the object itself\n",
    "* **cls** is the first argument for class methods which refers to the class itself"
   ]
  },
  {
   "cell_type": "markdown",
   "id": "a4728109",
   "metadata": {},
   "source": [
    "## Q5. What is the purpose of the init method?"
   ]
  },
  {
   "cell_type": "markdown",
   "id": "8714a85a",
   "metadata": {},
   "source": [
    "#### Ans: \n",
    "**__ init__**  is a reseved method in python classes. It serves the role of a **constructor** in object oriented terminology. This method is called when an object is created from a class and it allows the class to initialize the attributes of the class"
   ]
  },
  {
   "cell_type": "markdown",
   "id": "b53cd32e",
   "metadata": {},
   "source": [
    "## Q6. What is the process for creating a class instance?\n"
   ]
  },
  {
   "cell_type": "markdown",
   "id": "0c6e6d51",
   "metadata": {},
   "source": [
    "**Ans:** To create a class instance, we need to call the class by its name and pass the arguments to the class, which its **init** method accepts.\n",
    "\n",
    "**Example: my_name = my_class(\"Mano\",\"vishnu\")** Here my_name is an instance of class my_class with attributes \"Mano\" and \"Vishnu\"."
   ]
  },
  {
   "cell_type": "markdown",
   "id": "91d70ff5",
   "metadata": {},
   "source": [
    "## Q7. What is the process for creating a class?"
   ]
  },
  {
   "cell_type": "markdown",
   "id": "c06fd407",
   "metadata": {},
   "source": [
    "**Ans: class** keyword is used to created a class in python. The syntax to create a class in python is **class <classname>:**\n",
    "\n",
    "**Example: class Car:** ➞ this creates a class called Car"
   ]
  },
  {
   "cell_type": "markdown",
   "id": "539d841d",
   "metadata": {},
   "source": [
    "## Q8. How would you define the superclasses of a class?"
   ]
  },
  {
   "cell_type": "markdown",
   "id": "27af4828",
   "metadata": {},
   "source": [
    "**Ans:** Superclass/Parent class is given as a arugment to the child class\n",
    "\n",
    "**Example:** class Employee(Person): Here child class Employee inherits attributes and methofs from Superclass/Parent Person"
   ]
  },
  {
   "cell_type": "code",
   "execution_count": null,
   "id": "3595d503",
   "metadata": {},
   "outputs": [],
   "source": []
  }
 ],
 "metadata": {
  "kernelspec": {
   "display_name": "Python 3 (ipykernel)",
   "language": "python",
   "name": "python3"
  },
  "language_info": {
   "codemirror_mode": {
    "name": "ipython",
    "version": 3
   },
   "file_extension": ".py",
   "mimetype": "text/x-python",
   "name": "python",
   "nbconvert_exporter": "python",
   "pygments_lexer": "ipython3",
   "version": "3.9.7"
  }
 },
 "nbformat": 4,
 "nbformat_minor": 5
}
